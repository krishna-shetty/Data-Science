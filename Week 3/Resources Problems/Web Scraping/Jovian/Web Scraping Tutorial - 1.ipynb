{
 "cells": [
  {
   "cell_type": "code",
   "execution_count": 1,
   "id": "7681eaf1",
   "metadata": {},
   "outputs": [
    {
     "name": "stdout",
     "output_type": "stream",
     "text": [
      "Requirement already satisfied: requests in c:\\users\\pc\\anaconda3\\lib\\site-packages (2.26.0)\n",
      "Requirement already satisfied: certifi>=2017.4.17 in c:\\users\\pc\\anaconda3\\lib\\site-packages (from requests) (2020.12.5)\n",
      "Requirement already satisfied: charset-normalizer~=2.0.0 in c:\\users\\pc\\anaconda3\\lib\\site-packages (from requests) (2.0.7)\n",
      "Requirement already satisfied: urllib3<1.27,>=1.21.1 in c:\\users\\pc\\anaconda3\\lib\\site-packages (from requests) (1.26.4)\n",
      "Requirement already satisfied: idna<4,>=2.5 in c:\\users\\pc\\anaconda3\\lib\\site-packages (from requests) (2.10)\n"
     ]
    }
   ],
   "source": [
    "!pip install requests --upgrade"
   ]
  },
  {
   "cell_type": "code",
   "execution_count": 2,
   "id": "6d5050a3",
   "metadata": {},
   "outputs": [],
   "source": [
    "import requests"
   ]
  },
  {
   "cell_type": "code",
   "execution_count": 3,
   "id": "75410ec9",
   "metadata": {},
   "outputs": [],
   "source": [
    "topics_url = \"https://github.com/topics\""
   ]
  },
  {
   "cell_type": "code",
   "execution_count": 4,
   "id": "d5f156ed",
   "metadata": {},
   "outputs": [],
   "source": [
    "response = requests.get(topics_url)"
   ]
  },
  {
   "cell_type": "code",
   "execution_count": 5,
   "id": "ea8326d8",
   "metadata": {},
   "outputs": [
    {
     "data": {
      "text/plain": [
       "200"
      ]
     },
     "execution_count": 5,
     "metadata": {},
     "output_type": "execute_result"
    }
   ],
   "source": [
    "response.status_code"
   ]
  },
  {
   "cell_type": "code",
   "execution_count": 6,
   "id": "cfd4dd80",
   "metadata": {},
   "outputs": [],
   "source": [
    "page = response.text"
   ]
  },
  {
   "cell_type": "code",
   "execution_count": 7,
   "id": "73c33ad6",
   "metadata": {},
   "outputs": [
    {
     "name": "stdout",
     "output_type": "stream",
     "text": [
      "Requirement already satisfied: beautifulsoup4 in c:\\users\\pc\\anaconda3\\lib\\site-packages (4.9.3)\n",
      "Requirement already satisfied: soupsieve>1.2 in c:\\users\\pc\\anaconda3\\lib\\site-packages (from beautifulsoup4) (2.2.1)\n"
     ]
    }
   ],
   "source": [
    "!pip install beautifulsoup4"
   ]
  },
  {
   "cell_type": "code",
   "execution_count": 8,
   "id": "5e862069",
   "metadata": {},
   "outputs": [],
   "source": [
    "from bs4 import BeautifulSoup\n",
    "\n",
    "soup = BeautifulSoup(page, 'html.parser')"
   ]
  },
  {
   "cell_type": "code",
   "execution_count": 9,
   "id": "64c8d3a6",
   "metadata": {},
   "outputs": [
    {
     "data": {
      "text/plain": [
       "bs4.BeautifulSoup"
      ]
     },
     "execution_count": 9,
     "metadata": {},
     "output_type": "execute_result"
    }
   ],
   "source": [
    "type(soup)"
   ]
  },
  {
   "cell_type": "code",
   "execution_count": 10,
   "id": "5a69c30e",
   "metadata": {},
   "outputs": [],
   "source": [
    "topics_selection_criterion = \"f3 lh-condensed mb-0 mt-1 Link--primary\"\n",
    "topic_title_tags = soup.find_all('p', class_ = topics_selection_criterion)"
   ]
  },
  {
   "cell_type": "code",
   "execution_count": 11,
   "id": "06cd2e60",
   "metadata": {},
   "outputs": [
    {
     "data": {
      "text/plain": [
       "30"
      ]
     },
     "execution_count": 11,
     "metadata": {},
     "output_type": "execute_result"
    }
   ],
   "source": [
    "len(topic_title_tags)"
   ]
  },
  {
   "cell_type": "code",
   "execution_count": 12,
   "id": "bd73c5fe",
   "metadata": {},
   "outputs": [],
   "source": [
    "topics_desc_selection_criterion = \"f5 color-fg-muted mb-0 mt-1\"\n",
    "topic_desc_tags = soup.find_all('p', class_ = topics_desc_selection_criterion)"
   ]
  },
  {
   "cell_type": "code",
   "execution_count": 13,
   "id": "f995e3bb",
   "metadata": {},
   "outputs": [
    {
     "data": {
      "text/plain": [
       "[<p class=\"f5 color-fg-muted mb-0 mt-1\">\n",
       "               3D modeling is the process of virtually developing the surface and structure of a 3D object.\n",
       "             </p>,\n",
       " <p class=\"f5 color-fg-muted mb-0 mt-1\">\n",
       "               Ajax is a technique for creating interactive web applications.\n",
       "             </p>,\n",
       " <p class=\"f5 color-fg-muted mb-0 mt-1\">\n",
       "               Algorithms are self-contained sequences that carry out a variety of tasks.\n",
       "             </p>,\n",
       " <p class=\"f5 color-fg-muted mb-0 mt-1\">\n",
       "               Amp is a non-blocking concurrency framework for PHP.\n",
       "             </p>,\n",
       " <p class=\"f5 color-fg-muted mb-0 mt-1\">\n",
       "               Android is an operating system built by Google designed for mobile devices.\n",
       "             </p>]"
      ]
     },
     "execution_count": 13,
     "metadata": {},
     "output_type": "execute_result"
    }
   ],
   "source": [
    "topic_desc_tags[:5]"
   ]
  },
  {
   "cell_type": "code",
   "execution_count": 14,
   "id": "da7244f9",
   "metadata": {},
   "outputs": [],
   "source": [
    "topics_link_tags = soup.find_all('a', class_ = 'd-flex no-underline')"
   ]
  },
  {
   "cell_type": "code",
   "execution_count": 15,
   "id": "6c204a40",
   "metadata": {},
   "outputs": [
    {
     "name": "stdout",
     "output_type": "stream",
     "text": [
      "https://github.com/topics/3d\n"
     ]
    }
   ],
   "source": [
    "topic0_URL = \"https://github.com\" + topics_link_tags[0]['href']\n",
    "print(topic0_URL)"
   ]
  },
  {
   "cell_type": "code",
   "execution_count": 16,
   "id": "528ca65a",
   "metadata": {},
   "outputs": [
    {
     "data": {
      "text/plain": [
       "['3D',\n",
       " 'Ajax',\n",
       " 'Algorithm',\n",
       " 'Amp',\n",
       " 'Android',\n",
       " 'Angular',\n",
       " 'Ansible',\n",
       " 'API',\n",
       " 'Arduino',\n",
       " 'ASP.NET',\n",
       " 'Atom',\n",
       " 'Awesome Lists',\n",
       " 'Amazon Web Services',\n",
       " 'Azure',\n",
       " 'Babel',\n",
       " 'Bash',\n",
       " 'Bitcoin',\n",
       " 'Bootstrap',\n",
       " 'Bot',\n",
       " 'C',\n",
       " 'Chrome',\n",
       " 'Chrome extension',\n",
       " 'Command line interface',\n",
       " 'Clojure',\n",
       " 'Code quality',\n",
       " 'Code review',\n",
       " 'Compiler',\n",
       " 'Continuous integration',\n",
       " 'COVID-19',\n",
       " 'C++']"
      ]
     },
     "execution_count": 16,
     "metadata": {},
     "output_type": "execute_result"
    }
   ],
   "source": [
    "topic_titles = []\n",
    "\n",
    "for tag in topic_title_tags:\n",
    "    topic_titles.append(tag.text)\n",
    "    \n",
    "topic_titles"
   ]
  },
  {
   "cell_type": "code",
   "execution_count": 17,
   "id": "d1b0b973",
   "metadata": {},
   "outputs": [
    {
     "data": {
      "text/plain": [
       "30"
      ]
     },
     "execution_count": 17,
     "metadata": {},
     "output_type": "execute_result"
    }
   ],
   "source": [
    "topic_desc = []\n",
    "for tag in topic_desc_tags:\n",
    "    topic_desc.append(tag.text.strip())\n",
    "    \n",
    "len(topic_desc)"
   ]
  },
  {
   "cell_type": "code",
   "execution_count": 18,
   "id": "ac9ddff3",
   "metadata": {},
   "outputs": [
    {
     "name": "stdout",
     "output_type": "stream",
     "text": [
      "30\n"
     ]
    }
   ],
   "source": [
    "topic_URLs = []\n",
    "base_URL = \"https://github.com\"\n",
    "\n",
    "for tag in topics_link_tags:\n",
    "    topic_URLs.append(base_URL + tag['href'])\n",
    "    \n",
    "print(len(topic_URLs))"
   ]
  },
  {
   "cell_type": "code",
   "execution_count": 19,
   "id": "2bc78793",
   "metadata": {},
   "outputs": [],
   "source": [
    "import pandas as pd"
   ]
  },
  {
   "cell_type": "code",
   "execution_count": 20,
   "id": "b0a9807e",
   "metadata": {},
   "outputs": [],
   "source": [
    "topic_dict = {'title': topic_titles, 'desc': topic_desc, 'url': topic_URLs}\n",
    "topic_df = pd.DataFrame(topic_dict)"
   ]
  },
  {
   "cell_type": "code",
   "execution_count": 21,
   "id": "84adc31d",
   "metadata": {},
   "outputs": [
    {
     "data": {
      "text/html": [
       "<div>\n",
       "<style scoped>\n",
       "    .dataframe tbody tr th:only-of-type {\n",
       "        vertical-align: middle;\n",
       "    }\n",
       "\n",
       "    .dataframe tbody tr th {\n",
       "        vertical-align: top;\n",
       "    }\n",
       "\n",
       "    .dataframe thead th {\n",
       "        text-align: right;\n",
       "    }\n",
       "</style>\n",
       "<table border=\"1\" class=\"dataframe\">\n",
       "  <thead>\n",
       "    <tr style=\"text-align: right;\">\n",
       "      <th></th>\n",
       "      <th>title</th>\n",
       "      <th>desc</th>\n",
       "      <th>url</th>\n",
       "    </tr>\n",
       "  </thead>\n",
       "  <tbody>\n",
       "    <tr>\n",
       "      <th>0</th>\n",
       "      <td>3D</td>\n",
       "      <td>3D modeling is the process of virtually develo...</td>\n",
       "      <td>https://github.com/topics/3d</td>\n",
       "    </tr>\n",
       "    <tr>\n",
       "      <th>1</th>\n",
       "      <td>Ajax</td>\n",
       "      <td>Ajax is a technique for creating interactive w...</td>\n",
       "      <td>https://github.com/topics/ajax</td>\n",
       "    </tr>\n",
       "    <tr>\n",
       "      <th>2</th>\n",
       "      <td>Algorithm</td>\n",
       "      <td>Algorithms are self-contained sequences that c...</td>\n",
       "      <td>https://github.com/topics/algorithm</td>\n",
       "    </tr>\n",
       "    <tr>\n",
       "      <th>3</th>\n",
       "      <td>Amp</td>\n",
       "      <td>Amp is a non-blocking concurrency framework fo...</td>\n",
       "      <td>https://github.com/topics/amphp</td>\n",
       "    </tr>\n",
       "    <tr>\n",
       "      <th>4</th>\n",
       "      <td>Android</td>\n",
       "      <td>Android is an operating system built by Google...</td>\n",
       "      <td>https://github.com/topics/android</td>\n",
       "    </tr>\n",
       "    <tr>\n",
       "      <th>5</th>\n",
       "      <td>Angular</td>\n",
       "      <td>Angular is an open source web application plat...</td>\n",
       "      <td>https://github.com/topics/angular</td>\n",
       "    </tr>\n",
       "    <tr>\n",
       "      <th>6</th>\n",
       "      <td>Ansible</td>\n",
       "      <td>Ansible is a simple and powerful automation en...</td>\n",
       "      <td>https://github.com/topics/ansible</td>\n",
       "    </tr>\n",
       "    <tr>\n",
       "      <th>7</th>\n",
       "      <td>API</td>\n",
       "      <td>An API (Application Programming Interface) is ...</td>\n",
       "      <td>https://github.com/topics/api</td>\n",
       "    </tr>\n",
       "    <tr>\n",
       "      <th>8</th>\n",
       "      <td>Arduino</td>\n",
       "      <td>Arduino is an open source hardware and softwar...</td>\n",
       "      <td>https://github.com/topics/arduino</td>\n",
       "    </tr>\n",
       "    <tr>\n",
       "      <th>9</th>\n",
       "      <td>ASP.NET</td>\n",
       "      <td>ASP.NET is a web framework for building modern...</td>\n",
       "      <td>https://github.com/topics/aspnet</td>\n",
       "    </tr>\n",
       "    <tr>\n",
       "      <th>10</th>\n",
       "      <td>Atom</td>\n",
       "      <td>Atom is a open source text editor built with w...</td>\n",
       "      <td>https://github.com/topics/atom</td>\n",
       "    </tr>\n",
       "    <tr>\n",
       "      <th>11</th>\n",
       "      <td>Awesome Lists</td>\n",
       "      <td>An awesome list is a list of awesome things cu...</td>\n",
       "      <td>https://github.com/topics/awesome</td>\n",
       "    </tr>\n",
       "    <tr>\n",
       "      <th>12</th>\n",
       "      <td>Amazon Web Services</td>\n",
       "      <td>Amazon Web Services provides on-demand cloud c...</td>\n",
       "      <td>https://github.com/topics/aws</td>\n",
       "    </tr>\n",
       "    <tr>\n",
       "      <th>13</th>\n",
       "      <td>Azure</td>\n",
       "      <td>Azure is a cloud computing service created by ...</td>\n",
       "      <td>https://github.com/topics/azure</td>\n",
       "    </tr>\n",
       "    <tr>\n",
       "      <th>14</th>\n",
       "      <td>Babel</td>\n",
       "      <td>Babel is a compiler for writing next generatio...</td>\n",
       "      <td>https://github.com/topics/babel</td>\n",
       "    </tr>\n",
       "    <tr>\n",
       "      <th>15</th>\n",
       "      <td>Bash</td>\n",
       "      <td>Bash is a shell and command language interpret...</td>\n",
       "      <td>https://github.com/topics/bash</td>\n",
       "    </tr>\n",
       "    <tr>\n",
       "      <th>16</th>\n",
       "      <td>Bitcoin</td>\n",
       "      <td>Bitcoin is a cryptocurrency developed by Satos...</td>\n",
       "      <td>https://github.com/topics/bitcoin</td>\n",
       "    </tr>\n",
       "    <tr>\n",
       "      <th>17</th>\n",
       "      <td>Bootstrap</td>\n",
       "      <td>Bootstrap is an HTML, CSS, and JavaScript fram...</td>\n",
       "      <td>https://github.com/topics/bootstrap</td>\n",
       "    </tr>\n",
       "    <tr>\n",
       "      <th>18</th>\n",
       "      <td>Bot</td>\n",
       "      <td>A bot is an application that runs automated ta...</td>\n",
       "      <td>https://github.com/topics/bot</td>\n",
       "    </tr>\n",
       "    <tr>\n",
       "      <th>19</th>\n",
       "      <td>C</td>\n",
       "      <td>C is a general purpose programming language th...</td>\n",
       "      <td>https://github.com/topics/c</td>\n",
       "    </tr>\n",
       "    <tr>\n",
       "      <th>20</th>\n",
       "      <td>Chrome</td>\n",
       "      <td>Chrome is a web browser from the tech company ...</td>\n",
       "      <td>https://github.com/topics/chrome</td>\n",
       "    </tr>\n",
       "    <tr>\n",
       "      <th>21</th>\n",
       "      <td>Chrome extension</td>\n",
       "      <td>Google Chrome Extensions are add-ons that allo...</td>\n",
       "      <td>https://github.com/topics/chrome-extension</td>\n",
       "    </tr>\n",
       "    <tr>\n",
       "      <th>22</th>\n",
       "      <td>Command line interface</td>\n",
       "      <td>A CLI, or command-line interface, is a console...</td>\n",
       "      <td>https://github.com/topics/cli</td>\n",
       "    </tr>\n",
       "    <tr>\n",
       "      <th>23</th>\n",
       "      <td>Clojure</td>\n",
       "      <td>Clojure is a dynamic, general-purpose programm...</td>\n",
       "      <td>https://github.com/topics/clojure</td>\n",
       "    </tr>\n",
       "    <tr>\n",
       "      <th>24</th>\n",
       "      <td>Code quality</td>\n",
       "      <td>Automate your code review with style, quality,...</td>\n",
       "      <td>https://github.com/topics/code-quality</td>\n",
       "    </tr>\n",
       "    <tr>\n",
       "      <th>25</th>\n",
       "      <td>Code review</td>\n",
       "      <td>Ensure your code meets quality standards and s...</td>\n",
       "      <td>https://github.com/topics/code-review</td>\n",
       "    </tr>\n",
       "    <tr>\n",
       "      <th>26</th>\n",
       "      <td>Compiler</td>\n",
       "      <td>Compilers are software that translate higher-l...</td>\n",
       "      <td>https://github.com/topics/compiler</td>\n",
       "    </tr>\n",
       "    <tr>\n",
       "      <th>27</th>\n",
       "      <td>Continuous integration</td>\n",
       "      <td>Automatically build and test your code as you ...</td>\n",
       "      <td>https://github.com/topics/continuous-integration</td>\n",
       "    </tr>\n",
       "    <tr>\n",
       "      <th>28</th>\n",
       "      <td>COVID-19</td>\n",
       "      <td>The coronavirus disease 2019 (COVID-19) is an ...</td>\n",
       "      <td>https://github.com/topics/covid-19</td>\n",
       "    </tr>\n",
       "    <tr>\n",
       "      <th>29</th>\n",
       "      <td>C++</td>\n",
       "      <td>C++ is a general purpose and object-oriented p...</td>\n",
       "      <td>https://github.com/topics/cpp</td>\n",
       "    </tr>\n",
       "  </tbody>\n",
       "</table>\n",
       "</div>"
      ],
      "text/plain": [
       "                     title                                               desc  \\\n",
       "0                       3D  3D modeling is the process of virtually develo...   \n",
       "1                     Ajax  Ajax is a technique for creating interactive w...   \n",
       "2                Algorithm  Algorithms are self-contained sequences that c...   \n",
       "3                      Amp  Amp is a non-blocking concurrency framework fo...   \n",
       "4                  Android  Android is an operating system built by Google...   \n",
       "5                  Angular  Angular is an open source web application plat...   \n",
       "6                  Ansible  Ansible is a simple and powerful automation en...   \n",
       "7                      API  An API (Application Programming Interface) is ...   \n",
       "8                  Arduino  Arduino is an open source hardware and softwar...   \n",
       "9                  ASP.NET  ASP.NET is a web framework for building modern...   \n",
       "10                    Atom  Atom is a open source text editor built with w...   \n",
       "11           Awesome Lists  An awesome list is a list of awesome things cu...   \n",
       "12     Amazon Web Services  Amazon Web Services provides on-demand cloud c...   \n",
       "13                   Azure  Azure is a cloud computing service created by ...   \n",
       "14                   Babel  Babel is a compiler for writing next generatio...   \n",
       "15                    Bash  Bash is a shell and command language interpret...   \n",
       "16                 Bitcoin  Bitcoin is a cryptocurrency developed by Satos...   \n",
       "17               Bootstrap  Bootstrap is an HTML, CSS, and JavaScript fram...   \n",
       "18                     Bot  A bot is an application that runs automated ta...   \n",
       "19                       C  C is a general purpose programming language th...   \n",
       "20                  Chrome  Chrome is a web browser from the tech company ...   \n",
       "21        Chrome extension  Google Chrome Extensions are add-ons that allo...   \n",
       "22  Command line interface  A CLI, or command-line interface, is a console...   \n",
       "23                 Clojure  Clojure is a dynamic, general-purpose programm...   \n",
       "24            Code quality  Automate your code review with style, quality,...   \n",
       "25             Code review  Ensure your code meets quality standards and s...   \n",
       "26                Compiler  Compilers are software that translate higher-l...   \n",
       "27  Continuous integration  Automatically build and test your code as you ...   \n",
       "28                COVID-19  The coronavirus disease 2019 (COVID-19) is an ...   \n",
       "29                     C++  C++ is a general purpose and object-oriented p...   \n",
       "\n",
       "                                                 url  \n",
       "0                       https://github.com/topics/3d  \n",
       "1                     https://github.com/topics/ajax  \n",
       "2                https://github.com/topics/algorithm  \n",
       "3                    https://github.com/topics/amphp  \n",
       "4                  https://github.com/topics/android  \n",
       "5                  https://github.com/topics/angular  \n",
       "6                  https://github.com/topics/ansible  \n",
       "7                      https://github.com/topics/api  \n",
       "8                  https://github.com/topics/arduino  \n",
       "9                   https://github.com/topics/aspnet  \n",
       "10                    https://github.com/topics/atom  \n",
       "11                 https://github.com/topics/awesome  \n",
       "12                     https://github.com/topics/aws  \n",
       "13                   https://github.com/topics/azure  \n",
       "14                   https://github.com/topics/babel  \n",
       "15                    https://github.com/topics/bash  \n",
       "16                 https://github.com/topics/bitcoin  \n",
       "17               https://github.com/topics/bootstrap  \n",
       "18                     https://github.com/topics/bot  \n",
       "19                       https://github.com/topics/c  \n",
       "20                  https://github.com/topics/chrome  \n",
       "21        https://github.com/topics/chrome-extension  \n",
       "22                     https://github.com/topics/cli  \n",
       "23                 https://github.com/topics/clojure  \n",
       "24            https://github.com/topics/code-quality  \n",
       "25             https://github.com/topics/code-review  \n",
       "26                https://github.com/topics/compiler  \n",
       "27  https://github.com/topics/continuous-integration  \n",
       "28                https://github.com/topics/covid-19  \n",
       "29                     https://github.com/topics/cpp  "
      ]
     },
     "execution_count": 21,
     "metadata": {},
     "output_type": "execute_result"
    }
   ],
   "source": [
    "topic_df"
   ]
  },
  {
   "cell_type": "code",
   "execution_count": 22,
   "id": "84d27346",
   "metadata": {},
   "outputs": [],
   "source": [
    "topic_df.to_csv('topics')"
   ]
  },
  {
   "cell_type": "code",
   "execution_count": 23,
   "id": "0e638fe4",
   "metadata": {},
   "outputs": [],
   "source": [
    "topic_page_URL0 = topic_URLs[0]"
   ]
  },
  {
   "cell_type": "code",
   "execution_count": 24,
   "id": "e04e7d84",
   "metadata": {},
   "outputs": [],
   "source": [
    "response = requests.get(topic_page_URL0)"
   ]
  },
  {
   "cell_type": "code",
   "execution_count": 25,
   "id": "7e2ab319",
   "metadata": {},
   "outputs": [
    {
     "data": {
      "text/plain": [
       "200"
      ]
     },
     "execution_count": 25,
     "metadata": {},
     "output_type": "execute_result"
    }
   ],
   "source": [
    "response.status_code"
   ]
  },
  {
   "cell_type": "code",
   "execution_count": 26,
   "id": "a760c2d7",
   "metadata": {},
   "outputs": [
    {
     "data": {
      "text/plain": [
       "637867"
      ]
     },
     "execution_count": 26,
     "metadata": {},
     "output_type": "execute_result"
    }
   ],
   "source": [
    "len(response.text)"
   ]
  },
  {
   "cell_type": "code",
   "execution_count": 27,
   "id": "2e36ede3",
   "metadata": {},
   "outputs": [],
   "source": [
    "_3d_page = response.text\n",
    "soup_3d = BeautifulSoup(_3d_page, 'html.parser')"
   ]
  },
  {
   "cell_type": "code",
   "execution_count": 28,
   "id": "c5963958",
   "metadata": {},
   "outputs": [
    {
     "data": {
      "text/plain": [
       "30"
      ]
     },
     "execution_count": 28,
     "metadata": {},
     "output_type": "execute_result"
    }
   ],
   "source": [
    "repo_tags = soup_3d.find_all('h3', class_ = 'f3 color-fg-muted text-normal lh-condensed')\n",
    "len(repo_tags)"
   ]
  },
  {
   "cell_type": "code",
   "execution_count": 29,
   "id": "c066f5c9",
   "metadata": {},
   "outputs": [],
   "source": [
    "a_tags = repo_tags[0].find_all('a')"
   ]
  },
  {
   "cell_type": "code",
   "execution_count": 30,
   "id": "1578b4e0",
   "metadata": {},
   "outputs": [
    {
     "data": {
      "text/plain": [
       "'mrdoob'"
      ]
     },
     "execution_count": 30,
     "metadata": {},
     "output_type": "execute_result"
    }
   ],
   "source": [
    "a_tags[0].text.strip()"
   ]
  },
  {
   "cell_type": "code",
   "execution_count": 31,
   "id": "f822c2af",
   "metadata": {},
   "outputs": [
    {
     "data": {
      "text/plain": [
       "'three.js'"
      ]
     },
     "execution_count": 31,
     "metadata": {},
     "output_type": "execute_result"
    }
   ],
   "source": [
    "a_tags[1].text.strip()"
   ]
  },
  {
   "cell_type": "code",
   "execution_count": 32,
   "id": "ae6f22cd",
   "metadata": {},
   "outputs": [
    {
     "name": "stdout",
     "output_type": "stream",
     "text": [
      "https://github.com/mrdoob/three.js\n"
     ]
    }
   ],
   "source": [
    "print(base_URL + a_tags[1]['href'])"
   ]
  },
  {
   "cell_type": "code",
   "execution_count": 33,
   "id": "53d5b04e",
   "metadata": {},
   "outputs": [
    {
     "data": {
      "text/plain": [
       "30"
      ]
     },
     "execution_count": 33,
     "metadata": {},
     "output_type": "execute_result"
    }
   ],
   "source": [
    "star_tags = soup_3d.find_all('a', class_ = 'social-count float-none')\n",
    "len(star_tags)"
   ]
  },
  {
   "cell_type": "code",
   "execution_count": 34,
   "id": "15829ac9",
   "metadata": {},
   "outputs": [],
   "source": [
    "def parse_star_count(star_str):\n",
    "    star_str = star_str.strip()\n",
    "    if star_str[-1] == 'k':\n",
    "        return int(float(star_str[:-1])*1000)\n",
    "    else:\n",
    "        return int(star_str)"
   ]
  },
  {
   "cell_type": "code",
   "execution_count": 35,
   "id": "8ac7f6bb",
   "metadata": {},
   "outputs": [
    {
     "data": {
      "text/plain": [
       "75300"
      ]
     },
     "execution_count": 35,
     "metadata": {},
     "output_type": "execute_result"
    }
   ],
   "source": [
    "parse_star_count(star_tags[0].text)"
   ]
  },
  {
   "cell_type": "code",
   "execution_count": 36,
   "id": "56e979be",
   "metadata": {},
   "outputs": [],
   "source": [
    "def get_repo_info(h1_tag, star_tag):\n",
    "    a_tags = h1_tag.find_all('a')\n",
    "    username = a_tags[0].text.strip()\n",
    "    repo_name = a_tags[1].text.strip()\n",
    "    repo_url = base_URL + a_tags[1]['href']\n",
    "    star_count = parse_star_count(star_tag.text)\n",
    "    return username, repo_name, repo_url, star_count"
   ]
  },
  {
   "cell_type": "code",
   "execution_count": 37,
   "id": "562541c6",
   "metadata": {},
   "outputs": [
    {
     "data": {
      "text/plain": [
       "('mrdoob', 'three.js', 'https://github.com/mrdoob/three.js', 75300)"
      ]
     },
     "execution_count": 37,
     "metadata": {},
     "output_type": "execute_result"
    }
   ],
   "source": [
    "get_repo_info(repo_tags[0], star_tags[0])"
   ]
  },
  {
   "cell_type": "code",
   "execution_count": 38,
   "id": "d273eb17",
   "metadata": {},
   "outputs": [],
   "source": [
    "topic_repos_dict = {'username': [], 'repo_name': [], 'repo_url': [], 'stars': []}\n",
    "\n",
    "for i in range(len(repo_tags)):\n",
    "    repo_info = get_repo_info(repo_tags[i], star_tags[i])\n",
    "    topic_repos_dict['username'].append(repo_info[0])\n",
    "    topic_repos_dict['repo_name'].append(repo_info[1])\n",
    "    topic_repos_dict['repo_url'].append(repo_info[2])\n",
    "    topic_repos_dict['stars'].append(repo_info[3])"
   ]
  },
  {
   "cell_type": "code",
   "execution_count": 39,
   "id": "0431f115",
   "metadata": {},
   "outputs": [
    {
     "data": {
      "text/html": [
       "<div>\n",
       "<style scoped>\n",
       "    .dataframe tbody tr th:only-of-type {\n",
       "        vertical-align: middle;\n",
       "    }\n",
       "\n",
       "    .dataframe tbody tr th {\n",
       "        vertical-align: top;\n",
       "    }\n",
       "\n",
       "    .dataframe thead th {\n",
       "        text-align: right;\n",
       "    }\n",
       "</style>\n",
       "<table border=\"1\" class=\"dataframe\">\n",
       "  <thead>\n",
       "    <tr style=\"text-align: right;\">\n",
       "      <th></th>\n",
       "      <th>username</th>\n",
       "      <th>repo_name</th>\n",
       "      <th>repo_url</th>\n",
       "      <th>stars</th>\n",
       "    </tr>\n",
       "  </thead>\n",
       "  <tbody>\n",
       "    <tr>\n",
       "      <th>0</th>\n",
       "      <td>mrdoob</td>\n",
       "      <td>three.js</td>\n",
       "      <td>https://github.com/mrdoob/three.js</td>\n",
       "      <td>75300</td>\n",
       "    </tr>\n",
       "    <tr>\n",
       "      <th>1</th>\n",
       "      <td>libgdx</td>\n",
       "      <td>libgdx</td>\n",
       "      <td>https://github.com/libgdx/libgdx</td>\n",
       "      <td>19200</td>\n",
       "    </tr>\n",
       "    <tr>\n",
       "      <th>2</th>\n",
       "      <td>pmndrs</td>\n",
       "      <td>react-three-fiber</td>\n",
       "      <td>https://github.com/pmndrs/react-three-fiber</td>\n",
       "      <td>15500</td>\n",
       "    </tr>\n",
       "    <tr>\n",
       "      <th>3</th>\n",
       "      <td>BabylonJS</td>\n",
       "      <td>Babylon.js</td>\n",
       "      <td>https://github.com/BabylonJS/Babylon.js</td>\n",
       "      <td>15200</td>\n",
       "    </tr>\n",
       "    <tr>\n",
       "      <th>4</th>\n",
       "      <td>aframevr</td>\n",
       "      <td>aframe</td>\n",
       "      <td>https://github.com/aframevr/aframe</td>\n",
       "      <td>13200</td>\n",
       "    </tr>\n",
       "  </tbody>\n",
       "</table>\n",
       "</div>"
      ],
      "text/plain": [
       "    username          repo_name                                     repo_url  \\\n",
       "0     mrdoob           three.js           https://github.com/mrdoob/three.js   \n",
       "1     libgdx             libgdx             https://github.com/libgdx/libgdx   \n",
       "2     pmndrs  react-three-fiber  https://github.com/pmndrs/react-three-fiber   \n",
       "3  BabylonJS         Babylon.js      https://github.com/BabylonJS/Babylon.js   \n",
       "4   aframevr             aframe           https://github.com/aframevr/aframe   \n",
       "\n",
       "   stars  \n",
       "0  75300  \n",
       "1  19200  \n",
       "2  15500  \n",
       "3  15200  \n",
       "4  13200  "
      ]
     },
     "execution_count": 39,
     "metadata": {},
     "output_type": "execute_result"
    }
   ],
   "source": [
    "topic_repos_df = pd.DataFrame(topic_repos_dict)\n",
    "topic_repos_df.head()"
   ]
  },
  {
   "cell_type": "code",
   "execution_count": 40,
   "id": "d1feeeec",
   "metadata": {},
   "outputs": [],
   "source": [
    "def get_topic_page(topic_url):\n",
    "    response = requests.get(topic_url)\n",
    "    if response.status_code != 200:\n",
    "        raise Exception (f'Failed to load page :-C {topic_url}')\n",
    "    soup_placeholder = BeautifulSoup(response.text, 'html.parser')\n",
    "    return soup_placeholder\n",
    "\n",
    "\n",
    "def get_topic_repos(soup_placeholder):\n",
    "    repo_tags = soup_placeholder.find_all('h3', class_ = 'f3 color-fg-muted text-normal lh-condensed')\n",
    "    star_tags = soup_placeholder.find_all('a', class_ = 'social-count float-none')\n",
    "    topic_repos_dict = {'username': [], 'repo_name': [], 'repo_url': [], 'stars': []}\n",
    "    for i in range(len(repo_tags)):\n",
    "        repo_info = get_repo_info(repo_tags[i], star_tags[i])\n",
    "        topic_repos_dict['username'].append(repo_info[0])\n",
    "        topic_repos_dict['repo_name'].append(repo_info[1])\n",
    "        topic_repos_dict['repo_url'].append(repo_info[2])\n",
    "        topic_repos_dict['stars'].append(repo_info[3])\n",
    "    return pd.DataFrame(topic_repos_dict)"
   ]
  },
  {
   "cell_type": "code",
   "execution_count": 41,
   "id": "f0dd21d4",
   "metadata": {},
   "outputs": [
    {
     "data": {
      "text/plain": [
       "'https://github.com/topics/android'"
      ]
     },
     "execution_count": 41,
     "metadata": {},
     "output_type": "execute_result"
    }
   ],
   "source": [
    "topic_URLs[4]"
   ]
  },
  {
   "cell_type": "code",
   "execution_count": 42,
   "id": "df8a97c1",
   "metadata": {},
   "outputs": [
    {
     "data": {
      "text/html": [
       "<div>\n",
       "<style scoped>\n",
       "    .dataframe tbody tr th:only-of-type {\n",
       "        vertical-align: middle;\n",
       "    }\n",
       "\n",
       "    .dataframe tbody tr th {\n",
       "        vertical-align: top;\n",
       "    }\n",
       "\n",
       "    .dataframe thead th {\n",
       "        text-align: right;\n",
       "    }\n",
       "</style>\n",
       "<table border=\"1\" class=\"dataframe\">\n",
       "  <thead>\n",
       "    <tr style=\"text-align: right;\">\n",
       "      <th></th>\n",
       "      <th>username</th>\n",
       "      <th>repo_name</th>\n",
       "      <th>repo_url</th>\n",
       "      <th>stars</th>\n",
       "    </tr>\n",
       "  </thead>\n",
       "  <tbody>\n",
       "    <tr>\n",
       "      <th>0</th>\n",
       "      <td>flutter</td>\n",
       "      <td>flutter</td>\n",
       "      <td>https://github.com/flutter/flutter</td>\n",
       "      <td>132000</td>\n",
       "    </tr>\n",
       "    <tr>\n",
       "      <th>1</th>\n",
       "      <td>justjavac</td>\n",
       "      <td>free-programming-books-zh_CN</td>\n",
       "      <td>https://github.com/justjavac/free-programming-...</td>\n",
       "      <td>83900</td>\n",
       "    </tr>\n",
       "    <tr>\n",
       "      <th>2</th>\n",
       "      <td>Genymobile</td>\n",
       "      <td>scrcpy</td>\n",
       "      <td>https://github.com/Genymobile/scrcpy</td>\n",
       "      <td>56500</td>\n",
       "    </tr>\n",
       "    <tr>\n",
       "      <th>3</th>\n",
       "      <td>Hack-with-Github</td>\n",
       "      <td>Awesome-Hacking</td>\n",
       "      <td>https://github.com/Hack-with-Github/Awesome-Ha...</td>\n",
       "      <td>47500</td>\n",
       "    </tr>\n",
       "    <tr>\n",
       "      <th>4</th>\n",
       "      <td>google</td>\n",
       "      <td>material-design-icons</td>\n",
       "      <td>https://github.com/google/material-design-icons</td>\n",
       "      <td>44200</td>\n",
       "    </tr>\n",
       "    <tr>\n",
       "      <th>5</th>\n",
       "      <td>wasabeef</td>\n",
       "      <td>awesome-android-ui</td>\n",
       "      <td>https://github.com/wasabeef/awesome-android-ui</td>\n",
       "      <td>41600</td>\n",
       "    </tr>\n",
       "    <tr>\n",
       "      <th>6</th>\n",
       "      <td>square</td>\n",
       "      <td>okhttp</td>\n",
       "      <td>https://github.com/square/okhttp</td>\n",
       "      <td>41100</td>\n",
       "    </tr>\n",
       "    <tr>\n",
       "      <th>7</th>\n",
       "      <td>android</td>\n",
       "      <td>architecture-samples</td>\n",
       "      <td>https://github.com/android/architecture-samples</td>\n",
       "      <td>39700</td>\n",
       "    </tr>\n",
       "    <tr>\n",
       "      <th>8</th>\n",
       "      <td>square</td>\n",
       "      <td>retrofit</td>\n",
       "      <td>https://github.com/square/retrofit</td>\n",
       "      <td>39000</td>\n",
       "    </tr>\n",
       "    <tr>\n",
       "      <th>9</th>\n",
       "      <td>Solido</td>\n",
       "      <td>awesome-flutter</td>\n",
       "      <td>https://github.com/Solido/awesome-flutter</td>\n",
       "      <td>38000</td>\n",
       "    </tr>\n",
       "    <tr>\n",
       "      <th>10</th>\n",
       "      <td>PhilJay</td>\n",
       "      <td>MPAndroidChart</td>\n",
       "      <td>https://github.com/PhilJay/MPAndroidChart</td>\n",
       "      <td>34200</td>\n",
       "    </tr>\n",
       "    <tr>\n",
       "      <th>11</th>\n",
       "      <td>fastlane</td>\n",
       "      <td>fastlane</td>\n",
       "      <td>https://github.com/fastlane/fastlane</td>\n",
       "      <td>33200</td>\n",
       "    </tr>\n",
       "    <tr>\n",
       "      <th>12</th>\n",
       "      <td>shadowsocks</td>\n",
       "      <td>shadowsocks-android</td>\n",
       "      <td>https://github.com/shadowsocks/shadowsocks-and...</td>\n",
       "      <td>32000</td>\n",
       "    </tr>\n",
       "    <tr>\n",
       "      <th>13</th>\n",
       "      <td>airbnb</td>\n",
       "      <td>lottie-android</td>\n",
       "      <td>https://github.com/airbnb/lottie-android</td>\n",
       "      <td>32000</td>\n",
       "    </tr>\n",
       "    <tr>\n",
       "      <th>14</th>\n",
       "      <td>bumptech</td>\n",
       "      <td>glide</td>\n",
       "      <td>https://github.com/bumptech/glide</td>\n",
       "      <td>31900</td>\n",
       "    </tr>\n",
       "    <tr>\n",
       "      <th>15</th>\n",
       "      <td>Trinea</td>\n",
       "      <td>android-open-project</td>\n",
       "      <td>https://github.com/Trinea/android-open-project</td>\n",
       "      <td>30800</td>\n",
       "    </tr>\n",
       "    <tr>\n",
       "      <th>16</th>\n",
       "      <td>Blankj</td>\n",
       "      <td>AndroidUtilCode</td>\n",
       "      <td>https://github.com/Blankj/AndroidUtilCode</td>\n",
       "      <td>30000</td>\n",
       "    </tr>\n",
       "    <tr>\n",
       "      <th>17</th>\n",
       "      <td>xitu</td>\n",
       "      <td>gold-miner</td>\n",
       "      <td>https://github.com/xitu/gold-miner</td>\n",
       "      <td>29700</td>\n",
       "    </tr>\n",
       "    <tr>\n",
       "      <th>18</th>\n",
       "      <td>bilibili</td>\n",
       "      <td>ijkplayer</td>\n",
       "      <td>https://github.com/bilibili/ijkplayer</td>\n",
       "      <td>29600</td>\n",
       "    </tr>\n",
       "    <tr>\n",
       "      <th>19</th>\n",
       "      <td>zxing</td>\n",
       "      <td>zxing</td>\n",
       "      <td>https://github.com/zxing/zxing</td>\n",
       "      <td>28600</td>\n",
       "    </tr>\n",
       "    <tr>\n",
       "      <th>20</th>\n",
       "      <td>codepath</td>\n",
       "      <td>android_guides</td>\n",
       "      <td>https://github.com/codepath/android_guides</td>\n",
       "      <td>27600</td>\n",
       "    </tr>\n",
       "    <tr>\n",
       "      <th>21</th>\n",
       "      <td>skylot</td>\n",
       "      <td>jadx</td>\n",
       "      <td>https://github.com/skylot/jadx</td>\n",
       "      <td>27600</td>\n",
       "    </tr>\n",
       "    <tr>\n",
       "      <th>22</th>\n",
       "      <td>square</td>\n",
       "      <td>leakcanary</td>\n",
       "      <td>https://github.com/square/leakcanary</td>\n",
       "      <td>26900</td>\n",
       "    </tr>\n",
       "    <tr>\n",
       "      <th>23</th>\n",
       "      <td>laurent22</td>\n",
       "      <td>joplin</td>\n",
       "      <td>https://github.com/laurent22/joplin</td>\n",
       "      <td>26100</td>\n",
       "    </tr>\n",
       "    <tr>\n",
       "      <th>24</th>\n",
       "      <td>alibaba</td>\n",
       "      <td>fastjson</td>\n",
       "      <td>https://github.com/alibaba/fastjson</td>\n",
       "      <td>23900</td>\n",
       "    </tr>\n",
       "    <tr>\n",
       "      <th>25</th>\n",
       "      <td>scwang90</td>\n",
       "      <td>SmartRefreshLayout</td>\n",
       "      <td>https://github.com/scwang90/SmartRefreshLayout</td>\n",
       "      <td>23100</td>\n",
       "    </tr>\n",
       "    <tr>\n",
       "      <th>26</th>\n",
       "      <td>CymChad</td>\n",
       "      <td>BaseRecyclerViewAdapterHelper</td>\n",
       "      <td>https://github.com/CymChad/BaseRecyclerViewAda...</td>\n",
       "      <td>22400</td>\n",
       "    </tr>\n",
       "    <tr>\n",
       "      <th>27</th>\n",
       "      <td>react-native-elements</td>\n",
       "      <td>react-native-elements</td>\n",
       "      <td>https://github.com/react-native-elements/react...</td>\n",
       "      <td>21600</td>\n",
       "    </tr>\n",
       "    <tr>\n",
       "      <th>28</th>\n",
       "      <td>google</td>\n",
       "      <td>iosched</td>\n",
       "      <td>https://github.com/google/iosched</td>\n",
       "      <td>20900</td>\n",
       "    </tr>\n",
       "    <tr>\n",
       "      <th>29</th>\n",
       "      <td>NativeScript</td>\n",
       "      <td>NativeScript</td>\n",
       "      <td>https://github.com/NativeScript/NativeScript</td>\n",
       "      <td>20600</td>\n",
       "    </tr>\n",
       "  </tbody>\n",
       "</table>\n",
       "</div>"
      ],
      "text/plain": [
       "                 username                      repo_name  \\\n",
       "0                 flutter                        flutter   \n",
       "1               justjavac   free-programming-books-zh_CN   \n",
       "2              Genymobile                         scrcpy   \n",
       "3        Hack-with-Github                Awesome-Hacking   \n",
       "4                  google          material-design-icons   \n",
       "5                wasabeef             awesome-android-ui   \n",
       "6                  square                         okhttp   \n",
       "7                 android           architecture-samples   \n",
       "8                  square                       retrofit   \n",
       "9                  Solido                awesome-flutter   \n",
       "10                PhilJay                 MPAndroidChart   \n",
       "11               fastlane                       fastlane   \n",
       "12            shadowsocks            shadowsocks-android   \n",
       "13                 airbnb                 lottie-android   \n",
       "14               bumptech                          glide   \n",
       "15                 Trinea           android-open-project   \n",
       "16                 Blankj                AndroidUtilCode   \n",
       "17                   xitu                     gold-miner   \n",
       "18               bilibili                      ijkplayer   \n",
       "19                  zxing                          zxing   \n",
       "20               codepath                 android_guides   \n",
       "21                 skylot                           jadx   \n",
       "22                 square                     leakcanary   \n",
       "23              laurent22                         joplin   \n",
       "24                alibaba                       fastjson   \n",
       "25               scwang90             SmartRefreshLayout   \n",
       "26                CymChad  BaseRecyclerViewAdapterHelper   \n",
       "27  react-native-elements          react-native-elements   \n",
       "28                 google                        iosched   \n",
       "29           NativeScript                   NativeScript   \n",
       "\n",
       "                                             repo_url   stars  \n",
       "0                  https://github.com/flutter/flutter  132000  \n",
       "1   https://github.com/justjavac/free-programming-...   83900  \n",
       "2                https://github.com/Genymobile/scrcpy   56500  \n",
       "3   https://github.com/Hack-with-Github/Awesome-Ha...   47500  \n",
       "4     https://github.com/google/material-design-icons   44200  \n",
       "5      https://github.com/wasabeef/awesome-android-ui   41600  \n",
       "6                    https://github.com/square/okhttp   41100  \n",
       "7     https://github.com/android/architecture-samples   39700  \n",
       "8                  https://github.com/square/retrofit   39000  \n",
       "9           https://github.com/Solido/awesome-flutter   38000  \n",
       "10          https://github.com/PhilJay/MPAndroidChart   34200  \n",
       "11               https://github.com/fastlane/fastlane   33200  \n",
       "12  https://github.com/shadowsocks/shadowsocks-and...   32000  \n",
       "13           https://github.com/airbnb/lottie-android   32000  \n",
       "14                  https://github.com/bumptech/glide   31900  \n",
       "15     https://github.com/Trinea/android-open-project   30800  \n",
       "16          https://github.com/Blankj/AndroidUtilCode   30000  \n",
       "17                 https://github.com/xitu/gold-miner   29700  \n",
       "18              https://github.com/bilibili/ijkplayer   29600  \n",
       "19                     https://github.com/zxing/zxing   28600  \n",
       "20         https://github.com/codepath/android_guides   27600  \n",
       "21                     https://github.com/skylot/jadx   27600  \n",
       "22               https://github.com/square/leakcanary   26900  \n",
       "23                https://github.com/laurent22/joplin   26100  \n",
       "24                https://github.com/alibaba/fastjson   23900  \n",
       "25     https://github.com/scwang90/SmartRefreshLayout   23100  \n",
       "26  https://github.com/CymChad/BaseRecyclerViewAda...   22400  \n",
       "27  https://github.com/react-native-elements/react...   21600  \n",
       "28                  https://github.com/google/iosched   20900  \n",
       "29       https://github.com/NativeScript/NativeScript   20600  "
      ]
     },
     "execution_count": 42,
     "metadata": {},
     "output_type": "execute_result"
    }
   ],
   "source": [
    "get_topic_repos(get_topic_page(topic_URLs[4]))"
   ]
  },
  {
   "cell_type": "code",
   "execution_count": 43,
   "id": "595bc0a2",
   "metadata": {},
   "outputs": [
    {
     "data": {
      "text/html": [
       "<div>\n",
       "<style scoped>\n",
       "    .dataframe tbody tr th:only-of-type {\n",
       "        vertical-align: middle;\n",
       "    }\n",
       "\n",
       "    .dataframe tbody tr th {\n",
       "        vertical-align: top;\n",
       "    }\n",
       "\n",
       "    .dataframe thead th {\n",
       "        text-align: right;\n",
       "    }\n",
       "</style>\n",
       "<table border=\"1\" class=\"dataframe\">\n",
       "  <thead>\n",
       "    <tr style=\"text-align: right;\">\n",
       "      <th></th>\n",
       "      <th>username</th>\n",
       "      <th>repo_name</th>\n",
       "      <th>repo_url</th>\n",
       "      <th>stars</th>\n",
       "    </tr>\n",
       "  </thead>\n",
       "  <tbody>\n",
       "    <tr>\n",
       "      <th>0</th>\n",
       "      <td>justjavac</td>\n",
       "      <td>free-programming-books-zh_CN</td>\n",
       "      <td>https://github.com/justjavac/free-programming-...</td>\n",
       "      <td>83900</td>\n",
       "    </tr>\n",
       "    <tr>\n",
       "      <th>1</th>\n",
       "      <td>angular</td>\n",
       "      <td>angular</td>\n",
       "      <td>https://github.com/angular/angular</td>\n",
       "      <td>77400</td>\n",
       "    </tr>\n",
       "    <tr>\n",
       "      <th>2</th>\n",
       "      <td>storybookjs</td>\n",
       "      <td>storybook</td>\n",
       "      <td>https://github.com/storybookjs/storybook</td>\n",
       "      <td>65800</td>\n",
       "    </tr>\n",
       "    <tr>\n",
       "      <th>3</th>\n",
       "      <td>ionic-team</td>\n",
       "      <td>ionic-framework</td>\n",
       "      <td>https://github.com/ionic-team/ionic-framework</td>\n",
       "      <td>45500</td>\n",
       "    </tr>\n",
       "    <tr>\n",
       "      <th>4</th>\n",
       "      <td>leonardomso</td>\n",
       "      <td>33-js-concepts</td>\n",
       "      <td>https://github.com/leonardomso/33-js-concepts</td>\n",
       "      <td>44600</td>\n",
       "    </tr>\n",
       "    <tr>\n",
       "      <th>5</th>\n",
       "      <td>prettier</td>\n",
       "      <td>prettier</td>\n",
       "      <td>https://github.com/prettier/prettier</td>\n",
       "      <td>40900</td>\n",
       "    </tr>\n",
       "    <tr>\n",
       "      <th>6</th>\n",
       "      <td>SheetJS</td>\n",
       "      <td>sheetjs</td>\n",
       "      <td>https://github.com/SheetJS/sheetjs</td>\n",
       "      <td>27900</td>\n",
       "    </tr>\n",
       "    <tr>\n",
       "      <th>7</th>\n",
       "      <td>angular</td>\n",
       "      <td>angular-cli</td>\n",
       "      <td>https://github.com/angular/angular-cli</td>\n",
       "      <td>25000</td>\n",
       "    </tr>\n",
       "    <tr>\n",
       "      <th>8</th>\n",
       "      <td>angular</td>\n",
       "      <td>components</td>\n",
       "      <td>https://github.com/angular/components</td>\n",
       "      <td>22200</td>\n",
       "    </tr>\n",
       "    <tr>\n",
       "      <th>9</th>\n",
       "      <td>NativeScript</td>\n",
       "      <td>NativeScript</td>\n",
       "      <td>https://github.com/NativeScript/NativeScript</td>\n",
       "      <td>20600</td>\n",
       "    </tr>\n",
       "    <tr>\n",
       "      <th>10</th>\n",
       "      <td>Eugeny</td>\n",
       "      <td>tabby</td>\n",
       "      <td>https://github.com/Eugeny/tabby</td>\n",
       "      <td>19800</td>\n",
       "    </tr>\n",
       "    <tr>\n",
       "      <th>11</th>\n",
       "      <td>jhipster</td>\n",
       "      <td>generator-jhipster</td>\n",
       "      <td>https://github.com/jhipster/generator-jhipster</td>\n",
       "      <td>19000</td>\n",
       "    </tr>\n",
       "    <tr>\n",
       "      <th>12</th>\n",
       "      <td>pubkey</td>\n",
       "      <td>rxdb</td>\n",
       "      <td>https://github.com/pubkey/rxdb</td>\n",
       "      <td>16400</td>\n",
       "    </tr>\n",
       "    <tr>\n",
       "      <th>13</th>\n",
       "      <td>handsontable</td>\n",
       "      <td>handsontable</td>\n",
       "      <td>https://github.com/handsontable/handsontable</td>\n",
       "      <td>15800</td>\n",
       "    </tr>\n",
       "    <tr>\n",
       "      <th>14</th>\n",
       "      <td>teambit</td>\n",
       "      <td>bit</td>\n",
       "      <td>https://github.com/teambit/bit</td>\n",
       "      <td>14300</td>\n",
       "    </tr>\n",
       "    <tr>\n",
       "      <th>15</th>\n",
       "      <td>sweetalert2</td>\n",
       "      <td>sweetalert2</td>\n",
       "      <td>https://github.com/sweetalert2/sweetalert2</td>\n",
       "      <td>13700</td>\n",
       "    </tr>\n",
       "    <tr>\n",
       "      <th>16</th>\n",
       "      <td>goldbergyoni</td>\n",
       "      <td>javascript-testing-best-practices</td>\n",
       "      <td>https://github.com/goldbergyoni/javascript-tes...</td>\n",
       "      <td>13600</td>\n",
       "    </tr>\n",
       "    <tr>\n",
       "      <th>17</th>\n",
       "      <td>linnovate</td>\n",
       "      <td>mean</td>\n",
       "      <td>https://github.com/linnovate/mean</td>\n",
       "      <td>12100</td>\n",
       "    </tr>\n",
       "    <tr>\n",
       "      <th>18</th>\n",
       "      <td>codesandbox</td>\n",
       "      <td>codesandbox-client</td>\n",
       "      <td>https://github.com/codesandbox/codesandbox-client</td>\n",
       "      <td>11000</td>\n",
       "    </tr>\n",
       "    <tr>\n",
       "      <th>19</th>\n",
       "      <td>coreui</td>\n",
       "      <td>coreui-free-bootstrap-admin-template</td>\n",
       "      <td>https://github.com/coreui/coreui-free-bootstra...</td>\n",
       "      <td>11000</td>\n",
       "    </tr>\n",
       "    <tr>\n",
       "      <th>20</th>\n",
       "      <td>PatrickJS</td>\n",
       "      <td>angular-starter</td>\n",
       "      <td>https://github.com/PatrickJS/angular-starter</td>\n",
       "      <td>10400</td>\n",
       "    </tr>\n",
       "    <tr>\n",
       "      <th>21</th>\n",
       "      <td>Chocobozzz</td>\n",
       "      <td>PeerTube</td>\n",
       "      <td>https://github.com/Chocobozzz/PeerTube</td>\n",
       "      <td>9800</td>\n",
       "    </tr>\n",
       "    <tr>\n",
       "      <th>22</th>\n",
       "      <td>nrwl</td>\n",
       "      <td>nx</td>\n",
       "      <td>https://github.com/nrwl/nx</td>\n",
       "      <td>9000</td>\n",
       "    </tr>\n",
       "    <tr>\n",
       "      <th>23</th>\n",
       "      <td>angular</td>\n",
       "      <td>protractor</td>\n",
       "      <td>https://github.com/angular/protractor</td>\n",
       "      <td>8800</td>\n",
       "    </tr>\n",
       "    <tr>\n",
       "      <th>24</th>\n",
       "      <td>OnsenUI</td>\n",
       "      <td>OnsenUI</td>\n",
       "      <td>https://github.com/OnsenUI/OnsenUI</td>\n",
       "      <td>8500</td>\n",
       "    </tr>\n",
       "    <tr>\n",
       "      <th>25</th>\n",
       "      <td>PatrickJS</td>\n",
       "      <td>awesome-angular</td>\n",
       "      <td>https://github.com/PatrickJS/awesome-angular</td>\n",
       "      <td>8100</td>\n",
       "    </tr>\n",
       "    <tr>\n",
       "      <th>26</th>\n",
       "      <td>text-mask</td>\n",
       "      <td>text-mask</td>\n",
       "      <td>https://github.com/text-mask/text-mask</td>\n",
       "      <td>8100</td>\n",
       "    </tr>\n",
       "    <tr>\n",
       "      <th>27</th>\n",
       "      <td>ng-bootstrap</td>\n",
       "      <td>ng-bootstrap</td>\n",
       "      <td>https://github.com/ng-bootstrap/ng-bootstrap</td>\n",
       "      <td>7800</td>\n",
       "    </tr>\n",
       "    <tr>\n",
       "      <th>28</th>\n",
       "      <td>NG-ZORRO</td>\n",
       "      <td>ng-zorro-antd</td>\n",
       "      <td>https://github.com/NG-ZORRO/ng-zorro-antd</td>\n",
       "      <td>7800</td>\n",
       "    </tr>\n",
       "    <tr>\n",
       "      <th>29</th>\n",
       "      <td>dotansimha</td>\n",
       "      <td>graphql-code-generator</td>\n",
       "      <td>https://github.com/dotansimha/graphql-code-gen...</td>\n",
       "      <td>7800</td>\n",
       "    </tr>\n",
       "  </tbody>\n",
       "</table>\n",
       "</div>"
      ],
      "text/plain": [
       "        username                             repo_name  \\\n",
       "0      justjavac          free-programming-books-zh_CN   \n",
       "1        angular                               angular   \n",
       "2    storybookjs                             storybook   \n",
       "3     ionic-team                       ionic-framework   \n",
       "4    leonardomso                        33-js-concepts   \n",
       "5       prettier                              prettier   \n",
       "6        SheetJS                               sheetjs   \n",
       "7        angular                           angular-cli   \n",
       "8        angular                            components   \n",
       "9   NativeScript                          NativeScript   \n",
       "10        Eugeny                                 tabby   \n",
       "11      jhipster                    generator-jhipster   \n",
       "12        pubkey                                  rxdb   \n",
       "13  handsontable                          handsontable   \n",
       "14       teambit                                   bit   \n",
       "15   sweetalert2                           sweetalert2   \n",
       "16  goldbergyoni     javascript-testing-best-practices   \n",
       "17     linnovate                                  mean   \n",
       "18   codesandbox                    codesandbox-client   \n",
       "19        coreui  coreui-free-bootstrap-admin-template   \n",
       "20     PatrickJS                       angular-starter   \n",
       "21    Chocobozzz                              PeerTube   \n",
       "22          nrwl                                    nx   \n",
       "23       angular                            protractor   \n",
       "24       OnsenUI                               OnsenUI   \n",
       "25     PatrickJS                       awesome-angular   \n",
       "26     text-mask                             text-mask   \n",
       "27  ng-bootstrap                          ng-bootstrap   \n",
       "28      NG-ZORRO                         ng-zorro-antd   \n",
       "29    dotansimha                graphql-code-generator   \n",
       "\n",
       "                                             repo_url  stars  \n",
       "0   https://github.com/justjavac/free-programming-...  83900  \n",
       "1                  https://github.com/angular/angular  77400  \n",
       "2            https://github.com/storybookjs/storybook  65800  \n",
       "3       https://github.com/ionic-team/ionic-framework  45500  \n",
       "4       https://github.com/leonardomso/33-js-concepts  44600  \n",
       "5                https://github.com/prettier/prettier  40900  \n",
       "6                  https://github.com/SheetJS/sheetjs  27900  \n",
       "7              https://github.com/angular/angular-cli  25000  \n",
       "8               https://github.com/angular/components  22200  \n",
       "9        https://github.com/NativeScript/NativeScript  20600  \n",
       "10                    https://github.com/Eugeny/tabby  19800  \n",
       "11     https://github.com/jhipster/generator-jhipster  19000  \n",
       "12                     https://github.com/pubkey/rxdb  16400  \n",
       "13       https://github.com/handsontable/handsontable  15800  \n",
       "14                     https://github.com/teambit/bit  14300  \n",
       "15         https://github.com/sweetalert2/sweetalert2  13700  \n",
       "16  https://github.com/goldbergyoni/javascript-tes...  13600  \n",
       "17                  https://github.com/linnovate/mean  12100  \n",
       "18  https://github.com/codesandbox/codesandbox-client  11000  \n",
       "19  https://github.com/coreui/coreui-free-bootstra...  11000  \n",
       "20       https://github.com/PatrickJS/angular-starter  10400  \n",
       "21             https://github.com/Chocobozzz/PeerTube   9800  \n",
       "22                         https://github.com/nrwl/nx   9000  \n",
       "23              https://github.com/angular/protractor   8800  \n",
       "24                 https://github.com/OnsenUI/OnsenUI   8500  \n",
       "25       https://github.com/PatrickJS/awesome-angular   8100  \n",
       "26             https://github.com/text-mask/text-mask   8100  \n",
       "27       https://github.com/ng-bootstrap/ng-bootstrap   7800  \n",
       "28          https://github.com/NG-ZORRO/ng-zorro-antd   7800  \n",
       "29  https://github.com/dotansimha/graphql-code-gen...   7800  "
      ]
     },
     "execution_count": 43,
     "metadata": {},
     "output_type": "execute_result"
    }
   ],
   "source": [
    "get_topic_repos(get_topic_page(topic_URLs[5]))"
   ]
  },
  {
   "cell_type": "code",
   "execution_count": 48,
   "id": "95a495e3",
   "metadata": {},
   "outputs": [],
   "source": [
    "def get_topic_titles(doc):\n",
    "    selection_class = 'f3 lh-condensed mb-0 mt-1 Link--primary'\n",
    "    topic_title_tags = doc.find_all('p', {'class': selection_class})\n",
    "    topic_titles = []\n",
    "    for tag in topic_title_tags:\n",
    "        topic_titles.append(tag.text)\n",
    "    return topic_titles\n",
    "\n",
    "def get_topic_descs(doc):\n",
    "    desc_selector = 'f5 color-fg-muted mb-0 mt-1'\n",
    "    topic_desc_tags = doc.find_all('p', {'class': desc_selector})\n",
    "    topic_descs = []\n",
    "    for tag in topic_desc_tags:\n",
    "        topic_descs.append(tag.text.strip())\n",
    "    return topic_descs\n",
    "\n",
    "def get_topic_urls(doc):\n",
    "    topic_link_tags = doc.find_all('a', {'class': 'd-flex no-underline'})\n",
    "    topic_urls = []\n",
    "    base_url = 'https://github.com'\n",
    "    for tag in topic_link_tags:\n",
    "        topic_urls.append(base_url + tag['href'])\n",
    "    return topic_urls\n",
    "    \n",
    "\n",
    "def scrape_topics(doc):\n",
    "    topics_url = 'https://github.com/topics'\n",
    "    response = requests.get(topics_url)\n",
    "    if response.status_code != 200:\n",
    "        raise Exception(f'Failed to load page {topics_url} :=C')\n",
    "    topics_dict = {\n",
    "        'title': get_topic_titles(doc),\n",
    "        'desc': get_topic_descs(doc),\n",
    "        'url': get_topic_urls(doc)\n",
    "    }\n",
    "    return pd.DataFrame(topics_dict)"
   ]
  },
  {
   "cell_type": "code",
   "execution_count": 49,
   "id": "37dc5b6d",
   "metadata": {},
   "outputs": [],
   "source": [
    "import os\n",
    "\n",
    "def scrape_topic(topic_url, path):\n",
    "    if os.path.exists(path):\n",
    "        print(f\"The file {path} already exists. Skipping...\")\n",
    "        return\n",
    "    topic_df = get_topic_repos(get_topic_page(topic_url))\n",
    "    topic_df.to_csv(path, index = None)"
   ]
  },
  {
   "cell_type": "code",
   "execution_count": 50,
   "id": "c7631cbd",
   "metadata": {},
   "outputs": [],
   "source": [
    "def scrape_topics_repos():\n",
    "    print('Scraping list of topics')\n",
    "    topics_df = scrape_topics(soup)\n",
    "    os.makedirs('data', exist_ok = True)\n",
    "    for index, row in topics_df.iterrows():\n",
    "        print('Scraping top repositories for \"{}\"'.format(row['title']))\n",
    "        scrape_topic(row['url'], 'data/{}.csv'.format(row['title']))"
   ]
  },
  {
   "cell_type": "code",
   "execution_count": 51,
   "id": "4dd71b0e",
   "metadata": {},
   "outputs": [
    {
     "name": "stdout",
     "output_type": "stream",
     "text": [
      "Scraping list of topics\n",
      "Scraping top repositories for \"3D\"\n",
      "The file data/3D.csv already exists. Skipping...\n",
      "Scraping top repositories for \"Ajax\"\n",
      "The file data/Ajax.csv already exists. Skipping...\n",
      "Scraping top repositories for \"Algorithm\"\n",
      "The file data/Algorithm.csv already exists. Skipping...\n",
      "Scraping top repositories for \"Amp\"\n",
      "The file data/Amp.csv already exists. Skipping...\n",
      "Scraping top repositories for \"Android\"\n",
      "The file data/Android.csv already exists. Skipping...\n",
      "Scraping top repositories for \"Angular\"\n",
      "The file data/Angular.csv already exists. Skipping...\n",
      "Scraping top repositories for \"Ansible\"\n",
      "The file data/Ansible.csv already exists. Skipping...\n",
      "Scraping top repositories for \"API\"\n",
      "The file data/API.csv already exists. Skipping...\n",
      "Scraping top repositories for \"Arduino\"\n",
      "The file data/Arduino.csv already exists. Skipping...\n",
      "Scraping top repositories for \"ASP.NET\"\n",
      "The file data/ASP.NET.csv already exists. Skipping...\n",
      "Scraping top repositories for \"Atom\"\n",
      "The file data/Atom.csv already exists. Skipping...\n",
      "Scraping top repositories for \"Awesome Lists\"\n",
      "The file data/Awesome Lists.csv already exists. Skipping...\n",
      "Scraping top repositories for \"Amazon Web Services\"\n",
      "The file data/Amazon Web Services.csv already exists. Skipping...\n",
      "Scraping top repositories for \"Azure\"\n",
      "The file data/Azure.csv already exists. Skipping...\n",
      "Scraping top repositories for \"Babel\"\n",
      "The file data/Babel.csv already exists. Skipping...\n",
      "Scraping top repositories for \"Bash\"\n",
      "The file data/Bash.csv already exists. Skipping...\n",
      "Scraping top repositories for \"Bitcoin\"\n",
      "The file data/Bitcoin.csv already exists. Skipping...\n",
      "Scraping top repositories for \"Bootstrap\"\n",
      "The file data/Bootstrap.csv already exists. Skipping...\n",
      "Scraping top repositories for \"Bot\"\n",
      "The file data/Bot.csv already exists. Skipping...\n",
      "Scraping top repositories for \"C\"\n",
      "The file data/C.csv already exists. Skipping...\n",
      "Scraping top repositories for \"Chrome\"\n",
      "The file data/Chrome.csv already exists. Skipping...\n",
      "Scraping top repositories for \"Chrome extension\"\n",
      "The file data/Chrome extension.csv already exists. Skipping...\n",
      "Scraping top repositories for \"Command line interface\"\n",
      "The file data/Command line interface.csv already exists. Skipping...\n",
      "Scraping top repositories for \"Clojure\"\n",
      "The file data/Clojure.csv already exists. Skipping...\n",
      "Scraping top repositories for \"Code quality\"\n",
      "The file data/Code quality.csv already exists. Skipping...\n",
      "Scraping top repositories for \"Code review\"\n",
      "The file data/Code review.csv already exists. Skipping...\n",
      "Scraping top repositories for \"Compiler\"\n",
      "The file data/Compiler.csv already exists. Skipping...\n",
      "Scraping top repositories for \"Continuous integration\"\n",
      "The file data/Continuous integration.csv already exists. Skipping...\n",
      "Scraping top repositories for \"COVID-19\"\n",
      "The file data/COVID-19.csv already exists. Skipping...\n",
      "Scraping top repositories for \"C++\"\n",
      "The file data/C++.csv already exists. Skipping...\n"
     ]
    }
   ],
   "source": [
    "scrape_topics_repos()"
   ]
  },
  {
   "cell_type": "code",
   "execution_count": null,
   "id": "7e180431",
   "metadata": {},
   "outputs": [],
   "source": []
  }
 ],
 "metadata": {
  "kernelspec": {
   "display_name": "Python 3",
   "language": "python",
   "name": "python3"
  },
  "language_info": {
   "codemirror_mode": {
    "name": "ipython",
    "version": 3
   },
   "file_extension": ".py",
   "mimetype": "text/x-python",
   "name": "python",
   "nbconvert_exporter": "python",
   "pygments_lexer": "ipython3",
   "version": "3.8.8"
  }
 },
 "nbformat": 4,
 "nbformat_minor": 5
}
